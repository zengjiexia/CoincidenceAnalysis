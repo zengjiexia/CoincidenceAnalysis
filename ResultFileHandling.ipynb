{
 "cells": [
  {
   "cell_type": "code",
   "execution_count": 5,
   "metadata": {},
   "outputs": [],
   "source": [
    "import os\n",
    "import pandas as pd"
   ]
  },
  {
   "cell_type": "code",
   "execution_count": 6,
   "metadata": {},
   "outputs": [],
   "source": [
    "input_path = r\"\""
   ]
  },
  {
   "cell_type": "code",
   "execution_count": 7,
   "metadata": {},
   "outputs": [],
   "source": [
    "def find_sample_folders(path):\n",
    "    paths = []\n",
    "    valid_paths = []\n",
    "    for root, dirs, files in os.walk(path):\n",
    "        for d in dirs:\n",
    "            paths.append(os.path.join(root, d))\n",
    "    for p in paths:\n",
    "        if os.path.isfile(p+ '/X0Y0R1W1C0.tif'): #improve condition\n",
    "            valid_paths.append(p)\n",
    "    return valid_paths\n",
    "\n",
    "\n",
    "def extract_FoV(path):\n",
    "    \"\"\"\n",
    "    get the name of field of views for a sample (format - XnYnRnWnCn)\n",
    "    para: path - string\n",
    "    return: fovs - set of string (unique names only)\n",
    "    \"\"\"\n",
    "    fovs = []\n",
    "    for root, dirs, files in os.walk(path):\n",
    "        for name in files:\n",
    "            if name.endswith('.tif'):\n",
    "                fovs.append(name[:10])\n",
    "    fovs = set(fovs)\n",
    "    return fovs"
   ]
  },
  {
   "cell_type": "code",
   "execution_count": 8,
   "metadata": {},
   "outputs": [],
   "source": [
    "def coincidence_summary(path):\n",
    "    \"\"\"\n",
    "    This function processes single sample\n",
    "    para: path - string: sample path\n",
    "    \"\"\"\n",
    "    summary_df = pd.DataFrame()\n",
    "    fovs = extract_FoV(path)\n",
    "    for fov in fovs:\n",
    "        fov_path = path + '/' + fov + '_summary.txt'\n",
    "        df = pd.read_csv(fov_path, delimiter='\\t')\n",
    "        df['FoV'] = fov\n",
    "        if os.path.basename(path).startswith('Blank'):\n",
    "            df['Sample'] = 'Blank'\n",
    "            df['Rep'] = os.path.basename(path)[-1] + os.path.basename(path)[-8]\n",
    "        else:\n",
    "            df['Sample'] = os.path.basename(path)[:-5]\n",
    "            df['Rep'] = os.path.basename(path)[-1]\n",
    "        summary_df = pd.concat([summary_df, df])\n",
    "    return(summary_df)"
   ]
  },
  {
   "cell_type": "code",
   "execution_count": 9,
   "metadata": {},
   "outputs": [
    {
     "name": "stderr",
     "output_type": "stream",
     "text": [
      "D:\\Anaconda3\\lib\\site-packages\\ipykernel_launcher.py:18: FutureWarning: Sorting because non-concatenation axis is not aligned. A future version\n",
      "of pandas will change to not sort by default.\n",
      "\n",
      "To accept the future behavior, pass 'sort=False'.\n",
      "\n",
      "To retain the current behavior and silence the warning, pass 'sort=True'.\n",
      "\n",
      "D:\\Anaconda3\\lib\\site-packages\\ipykernel_launcher.py:6: FutureWarning: Sorting because non-concatenation axis is not aligned. A future version\n",
      "of pandas will change to not sort by default.\n",
      "\n",
      "To accept the future behavior, pass 'sort=False'.\n",
      "\n",
      "To retain the current behavior and silence the warning, pass 'sort=True'.\n",
      "\n",
      "  \n"
     ]
    }
   ],
   "source": [
    "# Generate summary of results in format of .csv\n",
    "summary_df = pd.DataFrame()\n",
    "sample_paths = find_sample_folders(input_path)\n",
    "for sample_path in sample_paths:\n",
    "    df = coincidence_summary(sample_path)\n",
    "    summary_df = pd.concat([summary_df, df])\n",
    "summary_df = summary_df[['Sample','Rep','FoV','Particles_in_Ch1','Particles_in_Ch2','Colocalized_ch1&ch2','%_Ch1_coloc_ch1&ch2','%_Ch2_coloc_ch1&ch2']]\n",
    "summary_df = summary_df.fillna(value = 0)\n",
    "summary_df.to_csv(input_path + '/ResultSummary.csv')"
   ]
  },
  {
   "cell_type": "code",
   "execution_count": 10,
   "metadata": {},
   "outputs": [],
   "source": [
    "def size_intensity_analysis(path):\n",
    "    \"\"\"\n",
    "    This function processes single sample\n",
    "    para: path - string: sample path\n",
    "    \"\"\"\n",
    "    summary_df = pd.DataFrame()\n",
    "    fovs = extract_FoV(path)\n",
    "    for fov in fovs:\n",
    "        fov_path = path + '/' + fov + '_results.csv'\n",
    "        try:\n",
    "            df = pd.read_csv(fov_path)\n",
    "        except:\n",
    "            pass\n",
    "        else:\n",
    "            df = df.loc[df.Abs_frame == 1]\n",
    "            df = df[['X_(px)', 'Y_(px)', 'xMin', 'yMin', 'xMax', 'yMax', 'NArea', 'IntegrIntCh1']]\n",
    "            df['FoV'] = fov\n",
    "            if os.path.basename(path).startswith('Blank'):\n",
    "                df['Sample'] = 'Blank'\n",
    "                df['Rep'] = os.path.basename(path)[-1] + os.path.basename(path)[-8]\n",
    "            else:\n",
    "                df['Sample'] = os.path.basename(path)[:-5]\n",
    "                df['Rep'] = os.path.basename(path)[-1]\n",
    "            summary_df = pd.concat([summary_df, df])\n",
    "    return(summary_df)"
   ]
  },
  {
   "cell_type": "code",
   "execution_count": 11,
   "metadata": {},
   "outputs": [],
   "source": [
    "#Generate amyloid beta species analysis data\n",
    "summary_df = pd.DataFrame()\n",
    "sample_paths = find_sample_folders(input_path)\n",
    "for sample_path in sample_paths:\n",
    "    df = size_intensity_analysis(sample_path)\n",
    "    summary_df = pd.concat([summary_df, df])\n",
    "summary_df = summary_df[['Sample','Rep','FoV','X_(px)', 'Y_(px)', 'xMin', 'yMin', 'xMax', 'yMax', 'NArea', 'IntegrIntCh1']]\n",
    "summary_df = summary_df.fillna(value = 0)\n",
    "summary_df.to_csv(input_path + '/AmyloidAnalysis.csv')"
   ]
  },
  {
   "cell_type": "code",
   "execution_count": null,
   "metadata": {},
   "outputs": [],
   "source": []
  }
 ],
 "metadata": {
  "kernelspec": {
   "display_name": "Python 3",
   "language": "python",
   "name": "python3"
  },
  "language_info": {
   "codemirror_mode": {
    "name": "ipython",
    "version": 3
   },
   "file_extension": ".py",
   "mimetype": "text/x-python",
   "name": "python",
   "nbconvert_exporter": "python",
   "pygments_lexer": "ipython3",
   "version": "3.7.10"
  }
 },
 "nbformat": 4,
 "nbformat_minor": 2
}
